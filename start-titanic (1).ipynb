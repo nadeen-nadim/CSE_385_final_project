{
 "cells": [
  {
   "cell_type": "code",
   "execution_count": 1,
   "id": "athletic-package",
   "metadata": {
    "_cell_guid": "b1076dfc-b9ad-4769-8c92-a6c4dae69d19",
    "_uuid": "8f2839f25d086af736a60e9eeb907d3b93b6e0e5",
    "execution": {
     "iopub.execute_input": "2021-06-11T22:42:22.220658Z",
     "iopub.status.busy": "2021-06-11T22:42:22.219991Z",
     "iopub.status.idle": "2021-06-11T22:42:23.164147Z",
     "shell.execute_reply": "2021-06-11T22:42:23.163304Z",
     "shell.execute_reply.started": "2021-06-11T22:39:26.139068Z"
    },
    "papermill": {
     "duration": 0.983279,
     "end_time": "2021-06-11T22:42:23.164341",
     "exception": false,
     "start_time": "2021-06-11T22:42:22.181062",
     "status": "completed"
    },
    "tags": []
   },
   "outputs": [
    {
     "name": "stdout",
     "output_type": "stream",
     "text": [
      "/kaggle/input/titanic/train.csv\n",
      "/kaggle/input/titanic/test.csv\n",
      "/kaggle/input/titanic/gender_submission.csv\n"
     ]
    }
   ],
   "source": [
    "# This Python 3 environment comes with many helpful analytics libraries installed\n",
    "# It is defined by the kaggle/python Docker image: https://github.com/kaggle/docker-python\n",
    "# For example, here's several helpful packages to load\n",
    "\n",
    "import numpy as np # linear algebra\n",
    "import pandas as pd # data processing, CSV file I/O (e.g. pd.read_csv)\n",
    "import matplotlib.pyplot as plt #for plotting histogram\n",
    "import seaborn as sns \n",
    "\n",
    "\n",
    "# Input data files are available in the read-only \"../input/\" directory\n",
    "# For example, running this (by clicking run or pressing Shift+Enter) will list all files under the input directory\n",
    "\n",
    "import os\n",
    "for dirname, _, filenames in os.walk('/kaggle/input'):\n",
    "    for filename in filenames:\n",
    "        print(os.path.join(dirname, filename))\n",
    "\n",
    "# You can write up to 20GB to the current directory (/kaggle/working/) that gets preserved as output when you create a version using \"Save & Run All\" \n",
    "# You can also write temporary files to /kaggle/temp/, but they won't be saved outside of the current session"
   ]
  },
  {
   "cell_type": "code",
   "execution_count": 2,
   "id": "impressive-phase",
   "metadata": {
    "execution": {
     "iopub.execute_input": "2021-06-11T22:42:23.225789Z",
     "iopub.status.busy": "2021-06-11T22:42:23.225148Z",
     "iopub.status.idle": "2021-06-11T22:42:23.256370Z",
     "shell.execute_reply": "2021-06-11T22:42:23.255811Z",
     "shell.execute_reply.started": "2021-06-11T22:39:26.154628Z"
    },
    "papermill": {
     "duration": 0.064156,
     "end_time": "2021-06-11T22:42:23.256519",
     "exception": false,
     "start_time": "2021-06-11T22:42:23.192363",
     "status": "completed"
    },
    "tags": []
   },
   "outputs": [],
   "source": [
    "#loading training and testing data\n",
    "\n",
    "training = pd.read_csv(\"/kaggle/input/titanic/train.csv\")\n",
    "test = pd.read_csv(\"/kaggle/input/titanic/test.csv\")"
   ]
  },
  {
   "cell_type": "code",
   "execution_count": 3,
   "id": "excellent-hospital",
   "metadata": {
    "execution": {
     "iopub.execute_input": "2021-06-11T22:42:23.323856Z",
     "iopub.status.busy": "2021-06-11T22:42:23.323219Z",
     "iopub.status.idle": "2021-06-11T22:42:23.349207Z",
     "shell.execute_reply": "2021-06-11T22:42:23.349682Z",
     "shell.execute_reply.started": "2021-06-11T22:39:26.180020Z"
    },
    "papermill": {
     "duration": 0.066317,
     "end_time": "2021-06-11T22:42:23.349872",
     "exception": false,
     "start_time": "2021-06-11T22:42:23.283555",
     "status": "completed"
    },
    "tags": []
   },
   "outputs": [
    {
     "data": {
      "text/html": [
       "<div>\n",
       "<style scoped>\n",
       "    .dataframe tbody tr th:only-of-type {\n",
       "        vertical-align: middle;\n",
       "    }\n",
       "\n",
       "    .dataframe tbody tr th {\n",
       "        vertical-align: top;\n",
       "    }\n",
       "\n",
       "    .dataframe thead th {\n",
       "        text-align: right;\n",
       "    }\n",
       "</style>\n",
       "<table border=\"1\" class=\"dataframe\">\n",
       "  <thead>\n",
       "    <tr style=\"text-align: right;\">\n",
       "      <th></th>\n",
       "      <th>PassengerId</th>\n",
       "      <th>Survived</th>\n",
       "      <th>Pclass</th>\n",
       "      <th>Name</th>\n",
       "      <th>Sex</th>\n",
       "      <th>Age</th>\n",
       "      <th>SibSp</th>\n",
       "      <th>Parch</th>\n",
       "      <th>Ticket</th>\n",
       "      <th>Fare</th>\n",
       "      <th>Cabin</th>\n",
       "      <th>Embarked</th>\n",
       "    </tr>\n",
       "  </thead>\n",
       "  <tbody>\n",
       "    <tr>\n",
       "      <th>0</th>\n",
       "      <td>1</td>\n",
       "      <td>0</td>\n",
       "      <td>3</td>\n",
       "      <td>Braund, Mr. Owen Harris</td>\n",
       "      <td>male</td>\n",
       "      <td>22.0</td>\n",
       "      <td>1</td>\n",
       "      <td>0</td>\n",
       "      <td>A/5 21171</td>\n",
       "      <td>7.2500</td>\n",
       "      <td>NaN</td>\n",
       "      <td>S</td>\n",
       "    </tr>\n",
       "    <tr>\n",
       "      <th>1</th>\n",
       "      <td>2</td>\n",
       "      <td>1</td>\n",
       "      <td>1</td>\n",
       "      <td>Cumings, Mrs. John Bradley (Florence Briggs Th...</td>\n",
       "      <td>female</td>\n",
       "      <td>38.0</td>\n",
       "      <td>1</td>\n",
       "      <td>0</td>\n",
       "      <td>PC 17599</td>\n",
       "      <td>71.2833</td>\n",
       "      <td>C85</td>\n",
       "      <td>C</td>\n",
       "    </tr>\n",
       "    <tr>\n",
       "      <th>2</th>\n",
       "      <td>3</td>\n",
       "      <td>1</td>\n",
       "      <td>3</td>\n",
       "      <td>Heikkinen, Miss. Laina</td>\n",
       "      <td>female</td>\n",
       "      <td>26.0</td>\n",
       "      <td>0</td>\n",
       "      <td>0</td>\n",
       "      <td>STON/O2. 3101282</td>\n",
       "      <td>7.9250</td>\n",
       "      <td>NaN</td>\n",
       "      <td>S</td>\n",
       "    </tr>\n",
       "    <tr>\n",
       "      <th>3</th>\n",
       "      <td>4</td>\n",
       "      <td>1</td>\n",
       "      <td>1</td>\n",
       "      <td>Futrelle, Mrs. Jacques Heath (Lily May Peel)</td>\n",
       "      <td>female</td>\n",
       "      <td>35.0</td>\n",
       "      <td>1</td>\n",
       "      <td>0</td>\n",
       "      <td>113803</td>\n",
       "      <td>53.1000</td>\n",
       "      <td>C123</td>\n",
       "      <td>S</td>\n",
       "    </tr>\n",
       "    <tr>\n",
       "      <th>4</th>\n",
       "      <td>5</td>\n",
       "      <td>0</td>\n",
       "      <td>3</td>\n",
       "      <td>Allen, Mr. William Henry</td>\n",
       "      <td>male</td>\n",
       "      <td>35.0</td>\n",
       "      <td>0</td>\n",
       "      <td>0</td>\n",
       "      <td>373450</td>\n",
       "      <td>8.0500</td>\n",
       "      <td>NaN</td>\n",
       "      <td>S</td>\n",
       "    </tr>\n",
       "  </tbody>\n",
       "</table>\n",
       "</div>"
      ],
      "text/plain": [
       "   PassengerId  Survived  Pclass  \\\n",
       "0            1         0       3   \n",
       "1            2         1       1   \n",
       "2            3         1       3   \n",
       "3            4         1       1   \n",
       "4            5         0       3   \n",
       "\n",
       "                                                Name     Sex   Age  SibSp  \\\n",
       "0                            Braund, Mr. Owen Harris    male  22.0      1   \n",
       "1  Cumings, Mrs. John Bradley (Florence Briggs Th...  female  38.0      1   \n",
       "2                             Heikkinen, Miss. Laina  female  26.0      0   \n",
       "3       Futrelle, Mrs. Jacques Heath (Lily May Peel)  female  35.0      1   \n",
       "4                           Allen, Mr. William Henry    male  35.0      0   \n",
       "\n",
       "   Parch            Ticket     Fare Cabin Embarked  \n",
       "0      0         A/5 21171   7.2500   NaN        S  \n",
       "1      0          PC 17599  71.2833   C85        C  \n",
       "2      0  STON/O2. 3101282   7.9250   NaN        S  \n",
       "3      0            113803  53.1000  C123        S  \n",
       "4      0            373450   8.0500   NaN        S  "
      ]
     },
     "execution_count": 3,
     "metadata": {},
     "output_type": "execute_result"
    }
   ],
   "source": [
    "training.head()"
   ]
  },
  {
   "cell_type": "code",
   "execution_count": 4,
   "id": "agreed-county",
   "metadata": {
    "execution": {
     "iopub.execute_input": "2021-06-11T22:42:23.408436Z",
     "iopub.status.busy": "2021-06-11T22:42:23.407843Z",
     "iopub.status.idle": "2021-06-11T22:42:23.432187Z",
     "shell.execute_reply": "2021-06-11T22:42:23.431584Z",
     "shell.execute_reply.started": "2021-06-11T22:39:26.202567Z"
    },
    "papermill": {
     "duration": 0.055163,
     "end_time": "2021-06-11T22:42:23.432349",
     "exception": false,
     "start_time": "2021-06-11T22:42:23.377186",
     "status": "completed"
    },
    "tags": []
   },
   "outputs": [
    {
     "name": "stdout",
     "output_type": "stream",
     "text": [
      "<class 'pandas.core.frame.DataFrame'>\n",
      "RangeIndex: 891 entries, 0 to 890\n",
      "Data columns (total 12 columns):\n",
      " #   Column       Non-Null Count  Dtype  \n",
      "---  ------       --------------  -----  \n",
      " 0   PassengerId  891 non-null    int64  \n",
      " 1   Survived     891 non-null    int64  \n",
      " 2   Pclass       891 non-null    int64  \n",
      " 3   Name         891 non-null    object \n",
      " 4   Sex          891 non-null    object \n",
      " 5   Age          714 non-null    float64\n",
      " 6   SibSp        891 non-null    int64  \n",
      " 7   Parch        891 non-null    int64  \n",
      " 8   Ticket       891 non-null    object \n",
      " 9   Fare         891 non-null    float64\n",
      " 10  Cabin        204 non-null    object \n",
      " 11  Embarked     889 non-null    object \n",
      "dtypes: float64(2), int64(5), object(5)\n",
      "memory usage: 83.7+ KB\n"
     ]
    }
   ],
   "source": [
    "#look at the data types to gain better understanding of the data\n",
    "training.info()"
   ]
  },
  {
   "cell_type": "markdown",
   "id": "collectible-viking",
   "metadata": {
    "papermill": {
     "duration": 0.027587,
     "end_time": "2021-06-11T22:42:23.487854",
     "exception": false,
     "start_time": "2021-06-11T22:42:23.460267",
     "status": "completed"
    },
    "tags": []
   },
   "source": [
    "the cabin and age have many missing values"
   ]
  },
  {
   "cell_type": "code",
   "execution_count": 5,
   "id": "horizontal-welcome",
   "metadata": {
    "execution": {
     "iopub.execute_input": "2021-06-11T22:42:23.550014Z",
     "iopub.status.busy": "2021-06-11T22:42:23.549240Z",
     "iopub.status.idle": "2021-06-11T22:42:23.553847Z",
     "shell.execute_reply": "2021-06-11T22:42:23.553214Z",
     "shell.execute_reply.started": "2021-06-11T22:39:26.228217Z"
    },
    "papermill": {
     "duration": 0.038166,
     "end_time": "2021-06-11T22:42:23.553991",
     "exception": false,
     "start_time": "2021-06-11T22:42:23.515825",
     "status": "completed"
    },
    "tags": []
   },
   "outputs": [
    {
     "data": {
      "text/plain": [
       "Index(['PassengerId', 'Survived', 'Pclass', 'Name', 'Sex', 'Age', 'SibSp',\n",
       "       'Parch', 'Ticket', 'Fare', 'Cabin', 'Embarked'],\n",
       "      dtype='object')"
      ]
     },
     "execution_count": 5,
     "metadata": {},
     "output_type": "execute_result"
    }
   ],
   "source": [
    "training.columns"
   ]
  },
  {
   "cell_type": "markdown",
   "id": "revised-mambo",
   "metadata": {
    "papermill": {
     "duration": 0.028022,
     "end_time": "2021-06-11T22:42:23.610842",
     "exception": false,
     "start_time": "2021-06-11T22:42:23.582820",
     "status": "completed"
    },
    "tags": []
   },
   "source": [
    "The next step was to visualize the data. I divided the features into categorical and numerical data, so that, it is easier to plot them."
   ]
  },
  {
   "cell_type": "code",
   "execution_count": 6,
   "id": "spread-platform",
   "metadata": {
    "execution": {
     "iopub.execute_input": "2021-06-11T22:42:23.677085Z",
     "iopub.status.busy": "2021-06-11T22:42:23.676358Z",
     "iopub.status.idle": "2021-06-11T22:42:23.679487Z",
     "shell.execute_reply": "2021-06-11T22:42:23.678980Z",
     "shell.execute_reply.started": "2021-06-11T22:39:26.242756Z"
    },
    "papermill": {
     "duration": 0.039629,
     "end_time": "2021-06-11T22:42:23.679647",
     "exception": false,
     "start_time": "2021-06-11T22:42:23.640018",
     "status": "completed"
    },
    "tags": []
   },
   "outputs": [],
   "source": [
    "Titanic_categorical_features = training[['Pclass', 'Sex', 'Embarked' , 'Cabin','Ticket', 'Survived']]\n",
    "Titanic_numerical_features=training[['Age', 'SibSp','Parch','Fare']]"
   ]
  },
  {
   "cell_type": "code",
   "execution_count": 7,
   "id": "confused-occupation",
   "metadata": {
    "execution": {
     "iopub.execute_input": "2021-06-11T22:42:23.759014Z",
     "iopub.status.busy": "2021-06-11T22:42:23.758267Z",
     "iopub.status.idle": "2021-06-11T22:42:24.402787Z",
     "shell.execute_reply": "2021-06-11T22:42:24.402054Z",
     "shell.execute_reply.started": "2021-06-11T22:39:26.258326Z"
    },
    "papermill": {
     "duration": 0.694549,
     "end_time": "2021-06-11T22:42:24.402952",
     "exception": false,
     "start_time": "2021-06-11T22:42:23.708403",
     "status": "completed"
    },
    "tags": []
   },
   "outputs": [
    {
     "data": {
      "image/png": "[encoded data removed]",
      "text/plain": [
       "<Figure size 432x288 with 1 Axes>"
      ]
     },
     "metadata": {
      "needs_background": "light"
     },
     "output_type": "display_data"
    },
    {
     "data": {
      "image/png": "[encoded data removed]",
      "text/plain": [
       "<Figure size 432x288 with 1 Axes>"
      ]
     },
     "metadata": {
      "needs_background": "light"
     },
     "output_type": "display_data"
    },
    {
     "data": {
      "image/png": "[encoded data removed]",
      "text/plain": [
       "<Figure size 432x288 with 1 Axes>"
      ]
     },
     "metadata": {
      "needs_background": "light"
     },
     "output_type": "display_data"
    },
    {
     "data": {
      "image/png": "[encoded data removed]",
      "text/plain": [
       "<Figure size 432x288 with 1 Axes>"
      ]
     },
     "metadata": {
      "needs_background": "light"
     },
     "output_type": "display_data"
    }
   ],
   "source": [
    "Titanic_numerical_features.columns\n",
    "for i in Titanic_numerical_features.columns:\n",
    "    plt.hist(Titanic_numerical_features[i])\n",
    "    plt.title(i)\n",
    "    plt.show()"
   ]
  },
  {
   "cell_type": "markdown",
   "id": "accepting-malpractice",
   "metadata": {
    "papermill": {
     "duration": 0.030799,
     "end_time": "2021-06-11T22:42:24.465575",
     "exception": false,
     "start_time": "2021-06-11T22:42:24.434776",
     "status": "completed"
    },
    "tags": []
   },
   "source": [
    "Age is the only feature with normal distribution"
   ]
  },
  {
   "cell_type": "code",
   "execution_count": 8,
   "id": "ideal-missile",
   "metadata": {
    "execution": {
     "iopub.execute_input": "2021-06-11T22:42:24.534694Z",
     "iopub.status.busy": "2021-06-11T22:42:24.534016Z",
     "iopub.status.idle": "2021-06-11T22:42:37.620411Z",
     "shell.execute_reply": "2021-06-11T22:42:37.620935Z",
     "shell.execute_reply.started": "2021-06-11T22:39:27.134403Z"
    },
    "papermill": {
     "duration": 13.124471,
     "end_time": "2021-06-11T22:42:37.621160",
     "exception": false,
     "start_time": "2021-06-11T22:42:24.496689",
     "status": "completed"
    },
    "tags": []
   },
   "outputs": [
    {
     "name": "stderr",
     "output_type": "stream",
     "text": [
      "/opt/conda/lib/python3.7/site-packages/seaborn/_decorators.py:43: FutureWarning: Pass the following variables as keyword args: x, y. From version 0.12, the only valid positional argument will be `data`, and passing other arguments without an explicit keyword will result in an error or misinterpretation.\n",
      "  FutureWarning\n"
     ]
    },
    {
     "data": {
      "image/png": "[encoded data removed]",
      "text/plain": [
       "<Figure size 432x288 with 1 Axes>"
      ]
     },
     "metadata": {
      "needs_background": "light"
     },
     "output_type": "display_data"
    },
    {
     "name": "stderr",
     "output_type": "stream",
     "text": [
      "/opt/conda/lib/python3.7/site-packages/seaborn/_decorators.py:43: FutureWarning: Pass the following variables as keyword args: x, y. From version 0.12, the only valid positional argument will be `data`, and passing other arguments without an explicit keyword will result in an error or misinterpretation.\n",
      "  FutureWarning\n"
     ]
    },
    {
     "data": {
      "image/png": "[encoded data removed]",
      "text/plain": [
       "<Figure size 432x288 with 1 Axes>"
      ]
     },
     "metadata": {
      "needs_background": "light"
     },
     "output_type": "display_data"
    },
    {
     "name": "stderr",
     "output_type": "stream",
     "text": [
      "/opt/conda/lib/python3.7/site-packages/seaborn/_decorators.py:43: FutureWarning: Pass the following variables as keyword args: x, y. From version 0.12, the only valid positional argument will be `data`, and passing other arguments without an explicit keyword will result in an error or misinterpretation.\n",
      "  FutureWarning\n"
     ]
    },
    {
     "data": {
      "image/png": "[encoded data removed]",
      "text/plain": [
       "<Figure size 432x288 with 1 Axes>"
      ]
     },
     "metadata": {
      "needs_background": "light"
     },
     "output_type": "display_data"
    },
    {
     "name": "stderr",
     "output_type": "stream",
     "text": [
      "/opt/conda/lib/python3.7/site-packages/seaborn/_decorators.py:43: FutureWarning: Pass the following variables as keyword args: x, y. From version 0.12, the only valid positional argument will be `data`, and passing other arguments without an explicit keyword will result in an error or misinterpretation.\n",
      "  FutureWarning\n"
     ]
    },
    {
     "data": {
      "image/png": "[encoded data removed]",
      "text/plain": [
       "<Figure size 432x288 with 1 Axes>"
      ]
     },
     "metadata": {
      "needs_background": "light"
     },
     "output_type": "display_data"
    },
    {
     "name": "stderr",
     "output_type": "stream",
     "text": [
      "/opt/conda/lib/python3.7/site-packages/seaborn/_decorators.py:43: FutureWarning: Pass the following variables as keyword args: x, y. From version 0.12, the only valid positional argument will be `data`, and passing other arguments without an explicit keyword will result in an error or misinterpretation.\n",
      "  FutureWarning\n"
     ]
    },
    {
     "data": {
      "image/png": "[encoded data removed]",
      "text/plain": [
       "<Figure size 432x288 with 1 Axes>"
      ]
     },
     "metadata": {
      "needs_background": "light"
     },
     "output_type": "display_data"
    },
    {
     "name": "stderr",
     "output_type": "stream",
     "text": [
      "/opt/conda/lib/python3.7/site-packages/seaborn/_decorators.py:43: FutureWarning: Pass the following variables as keyword args: x, y. From version 0.12, the only valid positional argument will be `data`, and passing other arguments without an explicit keyword will result in an error or misinterpretation.\n",
      "  FutureWarning\n"
     ]
    },
    {
     "data": {
      "image/png": "[encoded data removed]",
      "text/plain": [
       "<Figure size 432x288 with 1 Axes>"
      ]
     },
     "metadata": {
      "needs_background": "light"
     },
     "output_type": "display_data"
    }
   ],
   "source": [
    "for i in Titanic_categorical_features.columns:\n",
    "    sns.barplot(Titanic_categorical_features[i].value_counts().index,Titanic_categorical_features[i].value_counts()).set_title(i)\n",
    "    plt.show()"
   ]
  },
  {
   "cell_type": "markdown",
   "id": "pacific-indicator",
   "metadata": {
    "papermill": {
     "duration": 0.038478,
     "end_time": "2021-06-11T22:42:37.697360",
     "exception": false,
     "start_time": "2021-06-11T22:42:37.658882",
     "status": "completed"
    },
    "tags": []
   },
   "source": [
    "\n"
   ]
  },
  {
   "cell_type": "code",
   "execution_count": null,
   "id": "legal-benjamin",
   "metadata": {
    "papermill": {
     "duration": 0.038155,
     "end_time": "2021-06-11T22:42:37.772796",
     "exception": false,
     "start_time": "2021-06-11T22:42:37.734641",
     "status": "completed"
    },
    "tags": []
   },
   "outputs": [],
   "source": []
  },
  {
   "cell_type": "code",
   "execution_count": 9,
   "id": "consolidated-equation",
   "metadata": {
    "execution": {
     "iopub.execute_input": "2021-06-11T22:42:37.857067Z",
     "iopub.status.busy": "2021-06-11T22:42:37.856204Z",
     "iopub.status.idle": "2021-06-11T22:42:37.861488Z",
     "shell.execute_reply": "2021-06-11T22:42:37.860863Z",
     "shell.execute_reply.started": "2021-06-11T22:39:39.644406Z"
    },
    "papermill": {
     "duration": 0.051647,
     "end_time": "2021-06-11T22:42:37.861641",
     "exception": false,
     "start_time": "2021-06-11T22:42:37.809994",
     "status": "completed"
    },
    "tags": []
   },
   "outputs": [
    {
     "data": {
      "text/plain": [
       "PassengerId      0\n",
       "Survived         0\n",
       "Pclass           0\n",
       "Name             0\n",
       "Sex              0\n",
       "Age            177\n",
       "SibSp            0\n",
       "Parch            0\n",
       "Ticket           0\n",
       "Fare             0\n",
       "Cabin          687\n",
       "Embarked         2\n",
       "dtype: int64"
      ]
     },
     "execution_count": 9,
     "metadata": {},
     "output_type": "execute_result"
    }
   ],
   "source": [
    "training.isnull().sum()"
   ]
  },
  {
   "cell_type": "markdown",
   "id": "rotary-bahamas",
   "metadata": {
    "papermill": {
     "duration": 0.037603,
     "end_time": "2021-06-11T22:42:37.937497",
     "exception": false,
     "start_time": "2021-06-11T22:42:37.899894",
     "status": "completed"
    },
    "tags": []
   },
   "source": [
    "Checking if other columns contain any null values"
   ]
  },
  {
   "cell_type": "markdown",
   "id": "polished-bottom",
   "metadata": {
    "papermill": {
     "duration": 0.036577,
     "end_time": "2021-06-11T22:42:38.011158",
     "exception": false,
     "start_time": "2021-06-11T22:42:37.974581",
     "status": "completed"
    },
    "tags": []
   },
   "source": [
    "Cabin is a categorical feature with many missing attributes tryying to fill them would lower the data quality. Fill the missing age values with the mean. The two missing embarked values would not effect the training therefore they were removed"
   ]
  },
  {
   "cell_type": "code",
   "execution_count": 10,
   "id": "young-letter",
   "metadata": {
    "execution": {
     "iopub.execute_input": "2021-06-11T22:42:38.094738Z",
     "iopub.status.busy": "2021-06-11T22:42:38.094059Z",
     "iopub.status.idle": "2021-06-11T22:42:38.098550Z",
     "shell.execute_reply": "2021-06-11T22:42:38.098015Z",
     "shell.execute_reply.started": "2021-06-11T22:39:39.658516Z"
    },
    "papermill": {
     "duration": 0.050571,
     "end_time": "2021-06-11T22:42:38.098741",
     "exception": false,
     "start_time": "2021-06-11T22:42:38.048170",
     "status": "completed"
    },
    "tags": []
   },
   "outputs": [
    {
     "data": {
      "text/plain": [
       "PassengerId      0\n",
       "Pclass           0\n",
       "Name             0\n",
       "Sex              0\n",
       "Age             86\n",
       "SibSp            0\n",
       "Parch            0\n",
       "Ticket           0\n",
       "Fare             1\n",
       "Cabin          327\n",
       "Embarked         0\n",
       "dtype: int64"
      ]
     },
     "execution_count": 10,
     "metadata": {},
     "output_type": "execute_result"
    }
   ],
   "source": [
    "test.isnull().sum()"
   ]
  },
  {
   "cell_type": "markdown",
   "id": "extra-owner",
   "metadata": {
    "papermill": {
     "duration": 0.038628,
     "end_time": "2021-06-11T22:42:38.174792",
     "exception": false,
     "start_time": "2021-06-11T22:42:38.136164",
     "status": "completed"
    },
    "tags": []
   },
   "source": []
  },
  {
   "cell_type": "code",
   "execution_count": 11,
   "id": "editorial-strain",
   "metadata": {
    "execution": {
     "iopub.execute_input": "2021-06-11T22:42:38.258784Z",
     "iopub.status.busy": "2021-06-11T22:42:38.257840Z",
     "iopub.status.idle": "2021-06-11T22:42:38.282819Z",
     "shell.execute_reply": "2021-06-11T22:42:38.281469Z",
     "shell.execute_reply.started": "2021-06-11T22:39:39.671871Z"
    },
    "papermill": {
     "duration": 0.070933,
     "end_time": "2021-06-11T22:42:38.282974",
     "exception": false,
     "start_time": "2021-06-11T22:42:38.212041",
     "status": "completed"
    },
    "tags": []
   },
   "outputs": [],
   "source": [
    "training = training.dropna(axis=0, subset=['Embarked'])"
   ]
  },
  {
   "cell_type": "code",
   "execution_count": 12,
   "id": "swiss-bobby",
   "metadata": {
    "execution": {
     "iopub.execute_input": "2021-06-11T22:42:38.364120Z",
     "iopub.status.busy": "2021-06-11T22:42:38.363340Z",
     "iopub.status.idle": "2021-06-11T22:42:38.765850Z",
     "shell.execute_reply": "2021-06-11T22:42:38.765166Z",
     "shell.execute_reply.started": "2021-06-11T22:39:39.685423Z"
    },
    "papermill": {
     "duration": 0.445885,
     "end_time": "2021-06-11T22:42:38.765993",
     "exception": false,
     "start_time": "2021-06-11T22:42:38.320108",
     "status": "completed"
    },
    "tags": []
   },
   "outputs": [],
   "source": [
    "from sklearn.impute import SimpleImputer\n",
    "training.Age = training.Age.fillna(training.Age.mean())\n",
    "test.Age = test.Age.fillna(test.Age.mean())\n",
    "test.Fare = test.Fare.fillna(test.Fare.mean())"
   ]
  },
  {
   "cell_type": "code",
   "execution_count": 13,
   "id": "vulnerable-strip",
   "metadata": {
    "execution": {
     "iopub.execute_input": "2021-06-11T22:42:38.846383Z",
     "iopub.status.busy": "2021-06-11T22:42:38.845517Z",
     "iopub.status.idle": "2021-06-11T22:42:38.848621Z",
     "shell.execute_reply": "2021-06-11T22:42:38.849140Z",
     "shell.execute_reply.started": "2021-06-11T22:39:39.699698Z"
    },
    "papermill": {
     "duration": 0.045322,
     "end_time": "2021-06-11T22:42:38.849316",
     "exception": false,
     "start_time": "2021-06-11T22:42:38.803994",
     "status": "completed"
    },
    "tags": []
   },
   "outputs": [],
   "source": [
    "y = training.Survived"
   ]
  },
  {
   "cell_type": "code",
   "execution_count": 14,
   "id": "executive-speech",
   "metadata": {
    "execution": {
     "iopub.execute_input": "2021-06-11T22:42:38.927282Z",
     "iopub.status.busy": "2021-06-11T22:42:38.926387Z",
     "iopub.status.idle": "2021-06-11T22:42:38.945600Z",
     "shell.execute_reply": "2021-06-11T22:42:38.946066Z",
     "shell.execute_reply.started": "2021-06-11T22:39:39.715250Z"
    },
    "papermill": {
     "duration": 0.05959,
     "end_time": "2021-06-11T22:42:38.946238",
     "exception": false,
     "start_time": "2021-06-11T22:42:38.886648",
     "status": "completed"
    },
    "tags": []
   },
   "outputs": [],
   "source": [
    "from sklearn.preprocessing import LabelEncoder\n",
    "Titanic_features = ['Pclass', 'Sex', 'Age',  'Fare',  'Embarked']\n",
    "\n",
    "training = pd.get_dummies(training[Titanic_features])\n",
    "xtt = pd.get_dummies(test[Titanic_features])"
   ]
  },
  {
   "cell_type": "code",
   "execution_count": null,
   "id": "polar-meditation",
   "metadata": {
    "papermill": {
     "duration": 0.037781,
     "end_time": "2021-06-11T22:42:39.021262",
     "exception": false,
     "start_time": "2021-06-11T22:42:38.983481",
     "status": "completed"
    },
    "tags": []
   },
   "outputs": [],
   "source": []
  },
  {
   "cell_type": "code",
   "execution_count": null,
   "id": "virgin-vegetation",
   "metadata": {
    "papermill": {
     "duration": 0.037719,
     "end_time": "2021-06-11T22:42:39.098030",
     "exception": false,
     "start_time": "2021-06-11T22:42:39.060311",
     "status": "completed"
    },
    "tags": []
   },
   "outputs": [],
   "source": []
  },
  {
   "cell_type": "code",
   "execution_count": null,
   "id": "coated-simulation",
   "metadata": {
    "papermill": {
     "duration": 0.037529,
     "end_time": "2021-06-11T22:42:39.174464",
     "exception": false,
     "start_time": "2021-06-11T22:42:39.136935",
     "status": "completed"
    },
    "tags": []
   },
   "outputs": [],
   "source": [
    "\n",
    "\n"
   ]
  },
  {
   "cell_type": "code",
   "execution_count": null,
   "id": "natural-church",
   "metadata": {
    "papermill": {
     "duration": 0.03858,
     "end_time": "2021-06-11T22:42:39.250997",
     "exception": false,
     "start_time": "2021-06-11T22:42:39.212417",
     "status": "completed"
    },
    "tags": []
   },
   "outputs": [],
   "source": []
  },
  {
   "cell_type": "code",
   "execution_count": 15,
   "id": "placed-sender",
   "metadata": {
    "execution": {
     "iopub.execute_input": "2021-06-11T22:42:39.336493Z",
     "iopub.status.busy": "2021-06-11T22:42:39.335807Z",
     "iopub.status.idle": "2021-06-11T22:42:39.339363Z",
     "shell.execute_reply": "2021-06-11T22:42:39.338679Z",
     "shell.execute_reply.started": "2021-06-11T22:39:39.740338Z"
    },
    "papermill": {
     "duration": 0.050106,
     "end_time": "2021-06-11T22:42:39.339505",
     "exception": false,
     "start_time": "2021-06-11T22:42:39.289399",
     "status": "completed"
    },
    "tags": []
   },
   "outputs": [],
   "source": [
    "Titanic_features = ['Pclass', 'Sex_female','Sex_male','Embarked_C','Embarked_Q','Embarked_S','Age','Fare']\n",
    "X = training[Titanic_features]\n",
    "x_tt2 = xtt[Titanic_features]"
   ]
  },
  {
   "cell_type": "code",
   "execution_count": 16,
   "id": "forbidden-spelling",
   "metadata": {
    "execution": {
     "iopub.execute_input": "2021-06-11T22:42:39.421537Z",
     "iopub.status.busy": "2021-06-11T22:42:39.420752Z",
     "iopub.status.idle": "2021-06-11T22:42:39.425652Z",
     "shell.execute_reply": "2021-06-11T22:42:39.425136Z",
     "shell.execute_reply.started": "2021-06-11T22:39:39.751236Z"
    },
    "papermill": {
     "duration": 0.049246,
     "end_time": "2021-06-11T22:42:39.425811",
     "exception": false,
     "start_time": "2021-06-11T22:42:39.376565",
     "status": "completed"
    },
    "tags": []
   },
   "outputs": [],
   "source": [
    "from sklearn.model_selection import train_test_split\n",
    "\n",
    "X_train, X_test, y_train, y_test = train_test_split(X, y, test_size = 0.2)\n"
   ]
  },
  {
   "cell_type": "code",
   "execution_count": 17,
   "id": "understood-participant",
   "metadata": {
    "execution": {
     "iopub.execute_input": "2021-06-11T22:42:39.512417Z",
     "iopub.status.busy": "2021-06-11T22:42:39.511770Z",
     "iopub.status.idle": "2021-06-11T22:42:54.569361Z",
     "shell.execute_reply": "2021-06-11T22:42:54.568500Z",
     "shell.execute_reply.started": "2021-06-11T22:39:39.762512Z"
    },
    "papermill": {
     "duration": 15.106596,
     "end_time": "2021-06-11T22:42:54.569637",
     "exception": false,
     "start_time": "2021-06-11T22:42:39.463041",
     "status": "completed"
    },
    "tags": []
   },
   "outputs": [],
   "source": [
    "from sklearn import svm\n",
    "\n",
    "clf = svm.SVC(kernel='linear', random_state =42)\n",
    "clf.fit(X_train, y_train)\n",
    "y_pred_svm = clf.predict(X_test)\n",
    "\n",
    "\n"
   ]
  },
  {
   "cell_type": "code",
   "execution_count": 18,
   "id": "joint-sleep",
   "metadata": {
    "execution": {
     "iopub.execute_input": "2021-06-11T22:42:54.669355Z",
     "iopub.status.busy": "2021-06-11T22:42:54.668481Z",
     "iopub.status.idle": "2021-06-11T22:42:54.681683Z",
     "shell.execute_reply": "2021-06-11T22:42:54.680962Z",
     "shell.execute_reply.started": "2021-06-11T22:39:52.774550Z"
    },
    "papermill": {
     "duration": 0.059191,
     "end_time": "2021-06-11T22:42:54.681869",
     "exception": false,
     "start_time": "2021-06-11T22:42:54.622678",
     "status": "completed"
    },
    "tags": []
   },
   "outputs": [],
   "source": [
    "from sklearn.naive_bayes import GaussianNB\n",
    "model = GaussianNB()\n",
    "model.fit(X_train,y_train)\n",
    "y_pred_NB= model.predict(X_test)"
   ]
  },
  {
   "cell_type": "code",
   "execution_count": 19,
   "id": "metallic-jersey",
   "metadata": {
    "execution": {
     "iopub.execute_input": "2021-06-11T22:42:54.763861Z",
     "iopub.status.busy": "2021-06-11T22:42:54.763015Z",
     "iopub.status.idle": "2021-06-11T22:42:55.393034Z",
     "shell.execute_reply": "2021-06-11T22:42:55.392220Z",
     "shell.execute_reply.started": "2021-06-11T22:39:52.791940Z"
    },
    "papermill": {
     "duration": 0.673233,
     "end_time": "2021-06-11T22:42:55.393200",
     "exception": false,
     "start_time": "2021-06-11T22:42:54.719967",
     "status": "completed"
    },
    "tags": []
   },
   "outputs": [],
   "source": [
    "from sklearn.ensemble import RandomForestClassifier\n",
    "random_forest_model=RandomForestClassifier(n_estimators=100,random_state =42)\n",
    "random_forest_model.fit(X_train,y_train)\n",
    "y_pred_RF=random_forest_model.predict(X_test)"
   ]
  },
  {
   "cell_type": "code",
   "execution_count": 20,
   "id": "after-longer",
   "metadata": {
    "execution": {
     "iopub.execute_input": "2021-06-11T22:42:55.472040Z",
     "iopub.status.busy": "2021-06-11T22:42:55.471370Z",
     "iopub.status.idle": "2021-06-11T22:42:55.518290Z",
     "shell.execute_reply": "2021-06-11T22:42:55.517661Z",
     "shell.execute_reply.started": "2021-06-11T22:39:53.063954Z"
    },
    "papermill": {
     "duration": 0.087588,
     "end_time": "2021-06-11T22:42:55.518450",
     "exception": false,
     "start_time": "2021-06-11T22:42:55.430862",
     "status": "completed"
    },
    "tags": []
   },
   "outputs": [],
   "source": [
    "from sklearn.linear_model import LogisticRegression\n",
    "logreg = LogisticRegression(max_iter = 1000,random_state =42)\n",
    "logreg.fit(X_train,y_train)\n",
    "y_pred_LR=logreg.predict(X_test)"
   ]
  },
  {
   "cell_type": "code",
   "execution_count": 21,
   "id": "built-communications",
   "metadata": {
    "execution": {
     "iopub.execute_input": "2021-06-11T22:42:55.603337Z",
     "iopub.status.busy": "2021-06-11T22:42:55.602661Z",
     "iopub.status.idle": "2021-06-11T22:42:55.608374Z",
     "shell.execute_reply": "2021-06-11T22:42:55.608933Z",
     "shell.execute_reply.started": "2021-06-11T22:39:53.137658Z"
    },
    "papermill": {
     "duration": 0.05173,
     "end_time": "2021-06-11T22:42:55.609134",
     "exception": false,
     "start_time": "2021-06-11T22:42:55.557404",
     "status": "completed"
    },
    "tags": []
   },
   "outputs": [
    {
     "name": "stdout",
     "output_type": "stream",
     "text": [
      " SVM Accuracy: 0.7303370786516854\n",
      " NB Accuracy: 0.7303370786516854\n",
      " Random forest Accuracy: 0.7584269662921348\n",
      " Linear Regressor Accuracy: 0.7415730337078652\n"
     ]
    }
   ],
   "source": [
    "from sklearn import metrics\n",
    "print(\" SVM Accuracy:\",metrics.accuracy_score(y_test, y_pred_svm))\n",
    "print(\" NB Accuracy:\",metrics.accuracy_score(y_test, y_pred_NB))\n",
    "print(\" Random forest Accuracy:\",metrics.accuracy_score(y_test, y_pred_RF))\n",
    "print(\" Linear Regressor Accuracy:\",metrics.accuracy_score(y_test, y_pred_LR))"
   ]
  },
  {
   "cell_type": "code",
   "execution_count": 22,
   "id": "damaged-roommate",
   "metadata": {
    "execution": {
     "iopub.execute_input": "2021-06-11T22:42:55.690781Z",
     "iopub.status.busy": "2021-06-11T22:42:55.690063Z",
     "iopub.status.idle": "2021-06-11T22:43:57.004048Z",
     "shell.execute_reply": "2021-06-11T22:43:57.003460Z",
     "shell.execute_reply.started": "2021-06-11T22:39:53.151413Z"
    },
    "papermill": {
     "duration": 61.35724,
     "end_time": "2021-06-11T22:43:57.004220",
     "exception": false,
     "start_time": "2021-06-11T22:42:55.646980",
     "status": "completed"
    },
    "tags": []
   },
   "outputs": [],
   "source": [
    "from sklearn.model_selection import cross_val_score\n",
    "svm_score = cross_val_score(clf, X, y, cv=5)\n",
    "random_forest_score = cross_val_score(random_forest_model, X, y, cv=5)\n",
    "linear_regressor_score = cross_val_score(logreg, X, y, cv=5)\n",
    "bayes_score = cross_val_score(model, X, y, cv=5)\n",
    "\n",
    "    "
   ]
  },
  {
   "cell_type": "code",
   "execution_count": 23,
   "id": "developmental-superintendent",
   "metadata": {
    "execution": {
     "iopub.execute_input": "2021-06-11T22:43:57.087023Z",
     "iopub.status.busy": "2021-06-11T22:43:57.086294Z",
     "iopub.status.idle": "2021-06-11T22:43:57.091479Z",
     "shell.execute_reply": "2021-06-11T22:43:57.090883Z",
     "shell.execute_reply.started": "2021-06-11T22:40:54.681858Z"
    },
    "papermill": {
     "duration": 0.049828,
     "end_time": "2021-06-11T22:43:57.091625",
     "exception": false,
     "start_time": "2021-06-11T22:43:57.041797",
     "status": "completed"
    },
    "tags": []
   },
   "outputs": [
    {
     "name": "stdout",
     "output_type": "stream",
     "text": [
      " SVM validation: [0.80337079 0.80337079 0.78651685 0.75280899 0.78531073]\n",
      " NB Accuracy: [0.75842697 0.79213483 0.7752809  0.76404494 0.79096045]\n",
      " Random forest Accuracy: [0.80337079 0.80337079 0.84269663 0.78089888 0.82485876]\n",
      " Linear Regressor Accuracy: [0.7752809  0.80898876 0.78089888 0.7752809  0.79096045]\n"
     ]
    }
   ],
   "source": [
    "print(\" SVM validation:\",svm_score)\n",
    "print(\" NB Accuracy:\",bayes_score)\n",
    "print(\" Random forest Accuracy:\",random_forest_score)\n",
    "print(\" Linear Regressor Accuracy:\" ,linear_regressor_score)"
   ]
  },
  {
   "cell_type": "markdown",
   "id": "virtual-equivalent",
   "metadata": {
    "papermill": {
     "duration": 0.037399,
     "end_time": "2021-06-11T22:43:57.166641",
     "exception": false,
     "start_time": "2021-06-11T22:43:57.129242",
     "status": "completed"
    },
    "tags": []
   },
   "source": [
    "Random_forest yields the best result among our models"
   ]
  },
  {
   "cell_type": "code",
   "execution_count": 24,
   "id": "inside-roads",
   "metadata": {
    "execution": {
     "iopub.execute_input": "2021-06-11T22:43:57.252252Z",
     "iopub.status.busy": "2021-06-11T22:43:57.251528Z",
     "iopub.status.idle": "2021-06-11T22:43:57.291010Z",
     "shell.execute_reply": "2021-06-11T22:43:57.290403Z",
     "shell.execute_reply.started": "2021-06-11T22:40:54.691899Z"
    },
    "papermill": {
     "duration": 0.08693,
     "end_time": "2021-06-11T22:43:57.291162",
     "exception": false,
     "start_time": "2021-06-11T22:43:57.204232",
     "status": "completed"
    },
    "tags": []
   },
   "outputs": [],
   "source": [
    "prediction = clf.predict(x_tt2)\n",
    "submission_cols = {'PassengerId' : test.PassengerId, 'Survived' : prediction}\n",
    "submission = pd.DataFrame(data =submission_cols)\n",
    "submission.to_csv('SVM_submission.csv', index =False)\n",
    "\n",
    "prediction = model.predict(x_tt2)\n",
    "submission_cols = {'PassengerId' : test.PassengerId, 'Survived' : prediction}\n",
    "submission = pd.DataFrame(data =submission_cols)\n",
    "submission.to_csv('NB_submission.csv', index =False)\n",
    "\n",
    "prediction = random_forest_model.predict(x_tt2)\n",
    "submission_cols = {'PassengerId' : test.PassengerId, 'Survived' : prediction}\n",
    "submission = pd.DataFrame(data =submission_cols)\n",
    "submission.to_csv('RF_submission.csv', index =False)\n",
    "#test.isnull().sum()"
   ]
  },
  {
   "cell_type": "code",
   "execution_count": null,
   "id": "norman-customer",
   "metadata": {
    "papermill": {
     "duration": 0.037718,
     "end_time": "2021-06-11T22:43:57.367077",
     "exception": false,
     "start_time": "2021-06-11T22:43:57.329359",
     "status": "completed"
    },
    "tags": []
   },
   "outputs": [],
   "source": []
  }
 ],
 "metadata": {
  "kernelspec": {
   "display_name": "Python 3",
   "language": "python",
   "name": "python3"
  },
  "language_info": {
   "codemirror_mode": {
    "name": "ipython",
    "version": 3
   },
   "file_extension": ".py",
   "mimetype": "text/x-python",
   "name": "python",
   "nbconvert_exporter": "python",
   "pygments_lexer": "ipython3",
   "version": "3.7.10"
  },
  "papermill": {
   "default_parameters": {},
   "duration": 106.030674,
   "end_time": "2021-06-11T22:43:59.266233",
   "environment_variables": {},
   "exception": null,
   "input_path": "__notebook__.ipynb",
   "output_path": "__notebook__.ipynb",
   "parameters": {},
   "start_time": "2021-06-11T22:42:13.235559",
   "version": "2.3.3"
  }
 },
 "nbformat": 4,
 "nbformat_minor": 5
}
